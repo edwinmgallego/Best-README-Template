{
  "nbformat": 4,
  "nbformat_minor": 0,
  "metadata": {
    "colab": {
      "provenance": [],
      "authorship_tag": "ABX9TyOQOBqiXNlb2+huwOJI7psH",
      "include_colab_link": true
    },
    "kernelspec": {
      "name": "python3",
      "display_name": "Python 3"
    },
    "language_info": {
      "name": "python"
    }
  },
  "cells": [
    {
      "cell_type": "markdown",
      "metadata": {
        "id": "view-in-github",
        "colab_type": "text"
      },
      "source": [
        "<a href=\"https://colab.research.google.com/github/edwinmgallego/Best-README-Template/blob/main/avd_121_Mineria_de_datos_clase03.ipynb\" target=\"_parent\"><img src=\"https://colab.research.google.com/assets/colab-badge.svg\" alt=\"Open In Colab\"/></a>"
      ]
    },
    {
      "cell_type": "code",
      "execution_count": 2,
      "metadata": {
        "id": "rT2ve_Ks8U1C",
        "colab": {
          "base_uri": "https://localhost:8080/"
        },
        "outputId": "8a35e0b9-2709-4d77-f5b6-25f47484c253"
      },
      "outputs": [
        {
          "output_type": "stream",
          "name": "stdout",
          "text": [
            "Requirement already satisfied: surprise in /usr/local/lib/python3.11/dist-packages (0.1)\n",
            "Requirement already satisfied: scikit-surprise in /usr/local/lib/python3.11/dist-packages (from surprise) (1.1.4)\n",
            "Requirement already satisfied: joblib>=1.2.0 in /usr/local/lib/python3.11/dist-packages (from scikit-surprise->surprise) (1.4.2)\n",
            "Requirement already satisfied: numpy>=1.19.5 in /usr/local/lib/python3.11/dist-packages (from scikit-surprise->surprise) (1.26.4)\n",
            "Requirement already satisfied: scipy>=1.6.0 in /usr/local/lib/python3.11/dist-packages (from scikit-surprise->surprise) (1.13.1)\n",
            "Evaluating RMSE, MAE of algorithm SVD on 5 split(s).\n",
            "\n",
            "                  Fold 1  Fold 2  Fold 3  Fold 4  Fold 5  Mean    Std     \n",
            "RMSE (testset)    nan     nan     nan     nan     nan     nan     nan     \n",
            "MAE (testset)     nan     nan     nan     nan     nan     nan     nan     \n",
            "Fit time          0.09    0.09    0.09    0.09    0.09    0.09    0.00    \n",
            "Test time         0.01    0.00    0.00    0.01    0.01    0.01    0.00    \n",
            "🎬 Recomendaciones para el usuario 1001:\n",
            "     show_id                   title  predicted_rating\n",
            "2         s3               Ganglands                 1\n",
            "6148   s6149     American Warfighter                 1\n",
            "6173   s6174  Antariksha Ke Rakhwale                 1\n",
            "6172   s6173    Antar: Son of Shadad                 1\n",
            "6171   s6172    Ant-Man and the Wasp                 1\n"
          ]
        }
      ],
      "source": [
        "# 📌 1. Importar librerías necesarias\n",
        "!pip install surprise  # Instalamos la librería si no está instalada\n",
        "\n",
        "import pandas as pd\n",
        "import numpy as np\n",
        "import matplotlib.pyplot as plt\n",
        "import seaborn as sns\n",
        "from surprise import Dataset, Reader, SVD\n",
        "from surprise.model_selection import cross_validate\n",
        "\n",
        "# 📌 2. Cargar el dataset de Netflix\n",
        "df = pd.read_csv(\"netflix_titles.csv\")\n",
        "df = df.dropna(subset=[\"cast\", \"rating\", \"director\"])  # Eliminamos valores nulos\n",
        "df[\"date_added\"] = pd.to_datetime(df[\"date_added\"].str.strip(), format='mixed')\n",
        "  # Convertimos fechas\n",
        "df[\"popularity\"] = df.groupby(\"title\")[\"show_id\"].transform(\"count\")\n",
        "df[\"popularity\"] = (df[\"popularity\"] - df[\"popularity\"].min()) / (df[\"popularity\"].max() - df[\"popularity\"].min())\n",
        "\n",
        "# 📌 3. Preparar los datos para Surprise\n",
        "reader = Reader(rating_scale=(0, 1))\n",
        "data = Dataset.load_from_df(df[[\"show_id\", \"title\", \"popularity\"]], reader)\n",
        "trainset = data.build_full_trainset()\n",
        "\n",
        "# 📌 4. Crear y entrenar el modelo SVD\n",
        "model = SVD()\n",
        "model.fit(trainset)\n",
        "\n",
        "# 📌 5. Evaluación del modelo\n",
        "cross_validate(model, data, measures=[\"RMSE\", \"MAE\"], cv=5, verbose=True)\n",
        "\n",
        "# 📌 6. Función para recomendar películas\n",
        "def recomendar_peliculas(usuario_id, df, modelo, n_recomendaciones=5):\n",
        "    peliculas_no_vistas = df[[\"show_id\", \"title\"]].drop_duplicates()\n",
        "    peliculas_no_vistas[\"predicted_rating\"] = peliculas_no_vistas[\"show_id\"].apply(lambda x: modelo.predict(usuario_id, x).est)\n",
        "    recomendaciones = peliculas_no_vistas.sort_values(\"predicted_rating\", ascending=False).head(n_recomendaciones)\n",
        "    return recomendaciones\n",
        "\n",
        "# 📌 7. Generar recomendaciones para un usuario ficticio (ID = 1001)\n",
        "recomendaciones = recomendar_peliculas(1001, df, model)\n",
        "print(\"🎬 Recomendaciones para el usuario 1001:\")\n",
        "print(recomendaciones)\n"
      ]
    }
  ]
}