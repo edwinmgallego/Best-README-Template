{
  "nbformat": 4,
  "nbformat_minor": 0,
  "metadata": {
    "colab": {
      "provenance": [],
      "include_colab_link": true
    },
    "kernelspec": {
      "name": "python3",
      "display_name": "Python 3"
    },
    "language_info": {
      "name": "python"
    }
  },
  "cells": [
    {
      "cell_type": "markdown",
      "metadata": {
        "id": "view-in-github",
        "colab_type": "text"
      },
      "source": [
        "<a href=\"https://colab.research.google.com/github/edwinmgallego/Best-README-Template/blob/main/avd_121_Mineria_de_datos_clase03.ipynb\" target=\"_parent\"><img src=\"https://colab.research.google.com/assets/colab-badge.svg\" alt=\"Open In Colab\"/></a>"
      ]
    },
    {
      "cell_type": "markdown",
      "source": [
        "<h1><b>carga inicial de la librerias</b></h1>\n",
        "→"
      ],
      "metadata": {
        "id": "gntEYao3EaXN"
      }
    },
    {
      "cell_type": "code",
      "source": [
        "# 📌 1. Importar librerías necesarias\n",
        "!pip install surprise  # Instalamos la librería si no está instalada"
      ],
      "metadata": {
        "id": "rC9FfCwbFfeG",
        "colab": {
          "base_uri": "https://localhost:8080/"
        },
        "outputId": "3eadbaef-d1a6-4751-a0cf-e37575ac68cf"
      },
      "execution_count": 2,
      "outputs": [
        {
          "output_type": "stream",
          "name": "stdout",
          "text": [
            "Collecting surprise\n",
            "  Downloading surprise-0.1-py2.py3-none-any.whl.metadata (327 bytes)\n",
            "Collecting scikit-surprise (from surprise)\n",
            "  Downloading scikit_surprise-1.1.4.tar.gz (154 kB)\n",
            "\u001b[2K     \u001b[90m━━━━━━━━━━━━━━━━━━━━━━━━━━━━━━━━━━━━━━━━\u001b[0m \u001b[32m154.4/154.4 kB\u001b[0m \u001b[31m2.6 MB/s\u001b[0m eta \u001b[36m0:00:00\u001b[0m\n",
            "\u001b[?25h  Installing build dependencies ... \u001b[?25l\u001b[?25hdone\n",
            "  Getting requirements to build wheel ... \u001b[?25l\u001b[?25hdone\n",
            "  Preparing metadata (pyproject.toml) ... \u001b[?25l\u001b[?25hdone\n",
            "Requirement already satisfied: joblib>=1.2.0 in /usr/local/lib/python3.11/dist-packages (from scikit-surprise->surprise) (1.4.2)\n",
            "Requirement already satisfied: numpy>=1.19.5 in /usr/local/lib/python3.11/dist-packages (from scikit-surprise->surprise) (1.26.4)\n",
            "Requirement already satisfied: scipy>=1.6.0 in /usr/local/lib/python3.11/dist-packages (from scikit-surprise->surprise) (1.13.1)\n",
            "Downloading surprise-0.1-py2.py3-none-any.whl (1.8 kB)\n",
            "Building wheels for collected packages: scikit-surprise\n",
            "  Building wheel for scikit-surprise (pyproject.toml) ... \u001b[?25l\u001b[?25hdone\n",
            "  Created wheel for scikit-surprise: filename=scikit_surprise-1.1.4-cp311-cp311-linux_x86_64.whl size=2505160 sha256=38ec4838099252022c1be108d953aa498e98bca746407db32adcddc0fefdf17d\n",
            "  Stored in directory: /root/.cache/pip/wheels/2a/8f/6e/7e2899163e2d85d8266daab4aa1cdabec7a6c56f83c015b5af\n",
            "Successfully built scikit-surprise\n",
            "Installing collected packages: scikit-surprise, surprise\n",
            "Successfully installed scikit-surprise-1.1.4 surprise-0.1\n"
          ]
        }
      ]
    },
    {
      "cell_type": "markdown",
      "source": [
        "Importacion de librerias"
      ],
      "metadata": {
        "id": "3WLWPwUwFpA2"
      }
    },
    {
      "cell_type": "code",
      "source": [
        "import pandas as pd\n",
        "import numpy as np\n",
        "import matplotlib.pyplot as plt\n",
        "import seaborn as sns\n",
        "from surprise import Dataset, Reader, SVD\n",
        "from surprise.model_selection import cross_validate"
      ],
      "metadata": {
        "id": "aH9Kx5_LFkcL"
      },
      "execution_count": 5,
      "outputs": []
    },
    {
      "cell_type": "code",
      "execution_count": 7,
      "metadata": {
        "id": "rT2ve_Ks8U1C",
        "colab": {
          "base_uri": "https://localhost:8080/"
        },
        "outputId": "ecd77731-2b64-48c2-910a-c4d272c71aa9"
      },
      "outputs": [
        {
          "output_type": "stream",
          "name": "stdout",
          "text": [
            "     show_id     type                  title         director  \\\n",
            "0         s1    Movie   Dick Johnson Is Dead  Kirsten Johnson   \n",
            "1         s2  TV Show          Blood & Water              NaN   \n",
            "2         s3  TV Show              Ganglands  Julien Leclercq   \n",
            "3         s4  TV Show  Jailbirds New Orleans              NaN   \n",
            "4         s5  TV Show           Kota Factory              NaN   \n",
            "...      ...      ...                    ...              ...   \n",
            "8802   s8803    Movie                 Zodiac    David Fincher   \n",
            "8803   s8804  TV Show            Zombie Dumb              NaN   \n",
            "8804   s8805    Movie             Zombieland  Ruben Fleischer   \n",
            "8805   s8806    Movie                   Zoom     Peter Hewitt   \n",
            "8806   s8807    Movie                 Zubaan      Mozez Singh   \n",
            "\n",
            "                                                   cast        country  \\\n",
            "0                                                   NaN  United States   \n",
            "1     Ama Qamata, Khosi Ngema, Gail Mabalane, Thaban...   South Africa   \n",
            "2     Sami Bouajila, Tracy Gotoas, Samuel Jouy, Nabi...            NaN   \n",
            "3                                                   NaN            NaN   \n",
            "4     Mayur More, Jitendra Kumar, Ranjan Raj, Alam K...          India   \n",
            "...                                                 ...            ...   \n",
            "8802  Mark Ruffalo, Jake Gyllenhaal, Robert Downey J...  United States   \n",
            "8803                                                NaN            NaN   \n",
            "8804  Jesse Eisenberg, Woody Harrelson, Emma Stone, ...  United States   \n",
            "8805  Tim Allen, Courteney Cox, Chevy Chase, Kate Ma...  United States   \n",
            "8806  Vicky Kaushal, Sarah-Jane Dias, Raaghav Chanan...          India   \n",
            "\n",
            "              date_added  release_year rating   duration  \\\n",
            "0     September 25, 2021          2020  PG-13     90 min   \n",
            "1     September 24, 2021          2021  TV-MA  2 Seasons   \n",
            "2     September 24, 2021          2021  TV-MA   1 Season   \n",
            "3     September 24, 2021          2021  TV-MA   1 Season   \n",
            "4     September 24, 2021          2021  TV-MA  2 Seasons   \n",
            "...                  ...           ...    ...        ...   \n",
            "8802   November 20, 2019          2007      R    158 min   \n",
            "8803        July 1, 2019          2018  TV-Y7  2 Seasons   \n",
            "8804    November 1, 2019          2009      R     88 min   \n",
            "8805    January 11, 2020          2006     PG     88 min   \n",
            "8806       March 2, 2019          2015  TV-14    111 min   \n",
            "\n",
            "                                              listed_in  \\\n",
            "0                                         Documentaries   \n",
            "1       International TV Shows, TV Dramas, TV Mysteries   \n",
            "2     Crime TV Shows, International TV Shows, TV Act...   \n",
            "3                                Docuseries, Reality TV   \n",
            "4     International TV Shows, Romantic TV Shows, TV ...   \n",
            "...                                                 ...   \n",
            "8802                     Cult Movies, Dramas, Thrillers   \n",
            "8803             Kids' TV, Korean TV Shows, TV Comedies   \n",
            "8804                            Comedies, Horror Movies   \n",
            "8805                 Children & Family Movies, Comedies   \n",
            "8806     Dramas, International Movies, Music & Musicals   \n",
            "\n",
            "                                            description  \n",
            "0     As her father nears the end of his life, filmm...  \n",
            "1     After crossing paths at a party, a Cape Town t...  \n",
            "2     To protect his family from a powerful drug lor...  \n",
            "3     Feuds, flirtations and toilet talk go down amo...  \n",
            "4     In a city of coaching centers known to train I...  \n",
            "...                                                 ...  \n",
            "8802  A political cartoonist, a crime reporter and a...  \n",
            "8803  While living alone in a spooky town, a young g...  \n",
            "8804  Looking to survive in a world taken over by zo...  \n",
            "8805  Dragged from civilian life, a former superhero...  \n",
            "8806  A scrappy but poor boy worms his way into a ty...  \n",
            "\n",
            "[8807 rows x 12 columns]\n",
            "Evaluating RMSE, MAE of algorithm SVD on 5 split(s).\n",
            "\n",
            "                  Fold 1  Fold 2  Fold 3  Fold 4  Fold 5  Mean    Std     \n",
            "RMSE (testset)    nan     nan     nan     nan     nan     nan     nan     \n",
            "MAE (testset)     nan     nan     nan     nan     nan     nan     nan     \n",
            "Fit time          0.15    0.14    0.15    0.10    0.08    0.12    0.03    \n",
            "Test time         0.01    0.01    0.01    0.00    0.00    0.01    0.00    \n",
            "🎬 Recomendaciones para el usuario 1001:\n",
            "     show_id                   title  predicted_rating\n",
            "2         s3               Ganglands                 1\n",
            "6148   s6149     American Warfighter                 1\n",
            "6173   s6174  Antariksha Ke Rakhwale                 1\n",
            "6172   s6173    Antar: Son of Shadad                 1\n",
            "6171   s6172    Ant-Man and the Wasp                 1\n"
          ]
        }
      ],
      "source": [
        "# 📌 2. Cargar el dataset de Netflix\n",
        "df = pd.read_csv(\"netflix_titles.csv\")\n",
        "print(df)\n",
        "df = df.dropna(subset=[\"cast\", \"rating\", \"director\"])  # Eliminamos valores nulos\n",
        "df[\"date_added\"] = pd.to_datetime(df[\"date_added\"].str.strip(), format='mixed')\n",
        "  # Convertimos fechas\n",
        "df[\"popularity\"] = df.groupby(\"title\")[\"show_id\"].transform(\"count\")\n",
        "df[\"popularity\"] = (df[\"popularity\"] - df[\"popularity\"].min()) / (df[\"popularity\"].max() - df[\"popularity\"].min())\n",
        "\n",
        "# 📌 3. Preparar los datos para Surprise\n",
        "reader = Reader(rating_scale=(0, 1))\n",
        "data = Dataset.load_from_df(df[[\"show_id\", \"title\", \"popularity\"]], reader)\n",
        "trainset = data.build_full_trainset()\n",
        "\n",
        "# 📌 4. Crear y entrenar el modelo SVD\n",
        "model = SVD()\n",
        "model.fit(trainset)\n",
        "\n",
        "# 📌 5. Evaluación del modelo\n",
        "cross_validate(model, data, measures=[\"RMSE\", \"MAE\"], cv=5, verbose=True)\n",
        "\n",
        "# 📌 6. Función para recomendar películas\n",
        "def recomendar_peliculas(usuario_id, df, modelo, n_recomendaciones=5):\n",
        "    peliculas_no_vistas = df[[\"show_id\", \"title\"]].drop_duplicates()\n",
        "    peliculas_no_vistas[\"predicted_rating\"] = peliculas_no_vistas[\"show_id\"].apply(lambda x: modelo.predict(usuario_id, x).est)\n",
        "    recomendaciones = peliculas_no_vistas.sort_values(\"predicted_rating\", ascending=False).head(n_recomendaciones)\n",
        "    return recomendaciones\n",
        "\n",
        "# 📌 7. Generar recomendaciones para un usuario ficticio (ID = 1001)\n",
        "recomendaciones = recomendar_peliculas(1001, df, model)\n",
        "print(\"🎬 Recomendaciones para el usuario 1001:\")\n",
        "print(recomendaciones)\n"
      ]
    }
  ]
}